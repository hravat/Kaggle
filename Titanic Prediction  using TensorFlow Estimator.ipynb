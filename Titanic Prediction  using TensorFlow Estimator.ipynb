{
 "cells": [
  {
   "cell_type": "code",
   "execution_count": 1,
   "metadata": {
    "_cell_guid": "b1076dfc-b9ad-4769-8c92-a6c4dae69d19",
    "_uuid": "8f2839f25d086af736a60e9eeb907d3b93b6e0e5"
   },
   "outputs": [
    {
     "name": "stdout",
     "output_type": "stream",
     "text": [
      "['.ipynb_checkpoints', 'hravat_titanic_pred_titl.csv', 'kernel.ipynb', 'Model_Details', 'test.csv', 'train.csv']\n"
     ]
    }
   ],
   "source": [
    "###Score improvemeent from 0.55 to 0.61244\n",
    "# This Python 3 environment comes with many helpful analytics libraries installed\n",
    "# It is defined by the kaggle/python docker image: https://github.com/kaggle/docker-python\n",
    "# For example, here's several helpful packages to load in \n",
    "\n",
    "import numpy as np # linear algebra\n",
    "import pandas as pd # data processing, CSV file I/O (e.g. pd.read_csv)\n",
    "\n",
    "# Input data files are available in the \"../input/\" directory.\n",
    "# For example, running this (by clicking run or pressing Shift+Enter) will list the files in the input directory\n",
    "\n",
    "import os\n",
    "print(os.listdir(\"../Titanic Prediction\"))\n",
    "\n",
    "# Any results you write to the current directory are saved as output."
   ]
  },
  {
   "cell_type": "markdown",
   "metadata": {
    "_uuid": "527748028c88d46ad3cc10bffebed6965e3e0001"
   },
   "source": [
    "Lets read the data and print the first few rows"
   ]
  },
  {
   "cell_type": "code",
   "execution_count": 2,
   "metadata": {
    "_cell_guid": "79c7e3d0-c299-4dcb-8224-4455121ee9b0",
    "_uuid": "d629ff2d2480ee46fbb7e2d37f6b5fab8052498a"
   },
   "outputs": [
    {
     "data": {
      "text/html": [
       "<div>\n",
       "<style>\n",
       "    .dataframe thead tr:only-child th {\n",
       "        text-align: right;\n",
       "    }\n",
       "\n",
       "    .dataframe thead th {\n",
       "        text-align: left;\n",
       "    }\n",
       "\n",
       "    .dataframe tbody tr th {\n",
       "        vertical-align: top;\n",
       "    }\n",
       "</style>\n",
       "<table border=\"1\" class=\"dataframe\">\n",
       "  <thead>\n",
       "    <tr style=\"text-align: right;\">\n",
       "      <th></th>\n",
       "      <th>Survived</th>\n",
       "      <th>Pclass</th>\n",
       "      <th>Sex</th>\n",
       "      <th>Age</th>\n",
       "      <th>SibSp</th>\n",
       "      <th>Parch</th>\n",
       "      <th>Fare</th>\n",
       "      <th>Embarked</th>\n",
       "    </tr>\n",
       "  </thead>\n",
       "  <tbody>\n",
       "    <tr>\n",
       "      <th>0</th>\n",
       "      <td>0</td>\n",
       "      <td>3</td>\n",
       "      <td>male</td>\n",
       "      <td>22.0</td>\n",
       "      <td>1</td>\n",
       "      <td>0</td>\n",
       "      <td>7.2500</td>\n",
       "      <td>S</td>\n",
       "    </tr>\n",
       "    <tr>\n",
       "      <th>1</th>\n",
       "      <td>1</td>\n",
       "      <td>1</td>\n",
       "      <td>female</td>\n",
       "      <td>38.0</td>\n",
       "      <td>1</td>\n",
       "      <td>0</td>\n",
       "      <td>71.2833</td>\n",
       "      <td>C</td>\n",
       "    </tr>\n",
       "    <tr>\n",
       "      <th>2</th>\n",
       "      <td>1</td>\n",
       "      <td>3</td>\n",
       "      <td>female</td>\n",
       "      <td>26.0</td>\n",
       "      <td>0</td>\n",
       "      <td>0</td>\n",
       "      <td>7.9250</td>\n",
       "      <td>S</td>\n",
       "    </tr>\n",
       "    <tr>\n",
       "      <th>3</th>\n",
       "      <td>1</td>\n",
       "      <td>1</td>\n",
       "      <td>female</td>\n",
       "      <td>35.0</td>\n",
       "      <td>1</td>\n",
       "      <td>0</td>\n",
       "      <td>53.1000</td>\n",
       "      <td>S</td>\n",
       "    </tr>\n",
       "    <tr>\n",
       "      <th>4</th>\n",
       "      <td>0</td>\n",
       "      <td>3</td>\n",
       "      <td>male</td>\n",
       "      <td>35.0</td>\n",
       "      <td>0</td>\n",
       "      <td>0</td>\n",
       "      <td>8.0500</td>\n",
       "      <td>S</td>\n",
       "    </tr>\n",
       "  </tbody>\n",
       "</table>\n",
       "</div>"
      ],
      "text/plain": [
       "   Survived Pclass     Sex   Age  SibSp  Parch     Fare Embarked\n",
       "0         0      3    male  22.0      1      0   7.2500        S\n",
       "1         1      1  female  38.0      1      0  71.2833        C\n",
       "2         1      3  female  26.0      0      0   7.9250        S\n",
       "3         1      1  female  35.0      1      0  53.1000        S\n",
       "4         0      3    male  35.0      0      0   8.0500        S"
      ]
     },
     "execution_count": 2,
     "metadata": {},
     "output_type": "execute_result"
    }
   ],
   "source": [
    "df_main = pd.read_csv(\"../Titanic Prediction/train.csv\")\n",
    "df_main['Embarked'].fillna('S', inplace=True)\n",
    "df_main['Pclass'] = df_main['Pclass'].astype(str)\n",
    "df_main = df_main.loc[:,['Survived','Pclass','Sex','Age','SibSp','Parch','Fare','Embarked']]\n",
    "#df_main = df_main.dropna(how=\"any\", axis=0)\n",
    "df_main.head()"
   ]
  },
  {
   "cell_type": "markdown",
   "metadata": {
    "_uuid": "4a1ca923329282d20e6f71d8fde14aa9242e3d7a"
   },
   "source": [
    "Compute the statistics for necessary columns<br>\n",
    "We will not consider any categorical columns<br>\n",
    "We are particularly interested in min & max values to give an idea of the number of buckets required<br> "
   ]
  },
  {
   "cell_type": "code",
   "execution_count": 3,
   "metadata": {
    "_uuid": "fc5ae2ba4ed55f7c5b0a8144840f324a9f9b888f"
   },
   "outputs": [
    {
     "data": {
      "text/html": [
       "<div>\n",
       "<style>\n",
       "    .dataframe thead tr:only-child th {\n",
       "        text-align: right;\n",
       "    }\n",
       "\n",
       "    .dataframe thead th {\n",
       "        text-align: left;\n",
       "    }\n",
       "\n",
       "    .dataframe tbody tr th {\n",
       "        vertical-align: top;\n",
       "    }\n",
       "</style>\n",
       "<table border=\"1\" class=\"dataframe\">\n",
       "  <thead>\n",
       "    <tr style=\"text-align: right;\">\n",
       "      <th></th>\n",
       "      <th>Age</th>\n",
       "      <th>Fare</th>\n",
       "      <th>SibSp</th>\n",
       "      <th>Parch</th>\n",
       "    </tr>\n",
       "  </thead>\n",
       "  <tbody>\n",
       "    <tr>\n",
       "      <th>count</th>\n",
       "      <td>714.000000</td>\n",
       "      <td>891.000000</td>\n",
       "      <td>891.000000</td>\n",
       "      <td>891.000000</td>\n",
       "    </tr>\n",
       "    <tr>\n",
       "      <th>mean</th>\n",
       "      <td>29.699118</td>\n",
       "      <td>32.204208</td>\n",
       "      <td>0.523008</td>\n",
       "      <td>0.381594</td>\n",
       "    </tr>\n",
       "    <tr>\n",
       "      <th>std</th>\n",
       "      <td>14.526497</td>\n",
       "      <td>49.693429</td>\n",
       "      <td>1.102743</td>\n",
       "      <td>0.806057</td>\n",
       "    </tr>\n",
       "    <tr>\n",
       "      <th>min</th>\n",
       "      <td>0.420000</td>\n",
       "      <td>0.000000</td>\n",
       "      <td>0.000000</td>\n",
       "      <td>0.000000</td>\n",
       "    </tr>\n",
       "    <tr>\n",
       "      <th>25%</th>\n",
       "      <td>20.125000</td>\n",
       "      <td>7.910400</td>\n",
       "      <td>0.000000</td>\n",
       "      <td>0.000000</td>\n",
       "    </tr>\n",
       "    <tr>\n",
       "      <th>50%</th>\n",
       "      <td>28.000000</td>\n",
       "      <td>14.454200</td>\n",
       "      <td>0.000000</td>\n",
       "      <td>0.000000</td>\n",
       "    </tr>\n",
       "    <tr>\n",
       "      <th>75%</th>\n",
       "      <td>38.000000</td>\n",
       "      <td>31.000000</td>\n",
       "      <td>1.000000</td>\n",
       "      <td>0.000000</td>\n",
       "    </tr>\n",
       "    <tr>\n",
       "      <th>max</th>\n",
       "      <td>80.000000</td>\n",
       "      <td>512.329200</td>\n",
       "      <td>8.000000</td>\n",
       "      <td>6.000000</td>\n",
       "    </tr>\n",
       "  </tbody>\n",
       "</table>\n",
       "</div>"
      ],
      "text/plain": [
       "              Age        Fare       SibSp       Parch\n",
       "count  714.000000  891.000000  891.000000  891.000000\n",
       "mean    29.699118   32.204208    0.523008    0.381594\n",
       "std     14.526497   49.693429    1.102743    0.806057\n",
       "min      0.420000    0.000000    0.000000    0.000000\n",
       "25%     20.125000    7.910400    0.000000    0.000000\n",
       "50%     28.000000   14.454200    0.000000    0.000000\n",
       "75%     38.000000   31.000000    1.000000    0.000000\n",
       "max     80.000000  512.329200    8.000000    6.000000"
      ]
     },
     "execution_count": 3,
     "metadata": {},
     "output_type": "execute_result"
    }
   ],
   "source": [
    "df_main_stats_summary = df_main.loc[:,['Age','Fare','SibSp','Parch']]\n",
    "df_main_stats_summary.describe()"
   ]
  },
  {
   "cell_type": "markdown",
   "metadata": {
    "_uuid": "60a9d530966cffc62fafb15de939240f17096750"
   },
   "source": [
    "Judging from the above values:- <br>\n",
    "     1) Age :- 8 buckets<br>\n",
    "     2) Fare :-  6 buckets<br>\n",
    "     3) SibSP & Parch will be passed as is.\n",
    "\n",
    "Importing the necessary packages<br>"
   ]
  },
  {
   "cell_type": "code",
   "execution_count": 4,
   "metadata": {
    "_uuid": "01e010abfb4bd65f3bab2a8ac3e3517869d79b36"
   },
   "outputs": [
    {
     "name": "stderr",
     "output_type": "stream",
     "text": [
      "C:\\ProgramData\\Anaconda3\\lib\\site-packages\\h5py\\__init__.py:34: FutureWarning: Conversion of the second argument of issubdtype from `float` to `np.floating` is deprecated. In future, it will be treated as `np.float64 == np.dtype(float).type`.\n",
      "  from ._conv import register_converters as _register_converters\n"
     ]
    },
    {
     "name": "stdout",
     "output_type": "stream",
     "text": [
      "1.5.0\n"
     ]
    }
   ],
   "source": [
    "import tensorflow as tf\n",
    "import shutil\n",
    "print(tf.__version__)"
   ]
  },
  {
   "cell_type": "markdown",
   "metadata": {
    "_uuid": "f7b9444574f234cda67205926352e9b4074c2596"
   },
   "source": [
    "Lets make the input function to read data as below"
   ]
  },
  {
   "cell_type": "code",
   "execution_count": 30,
   "metadata": {
    "_uuid": "93f7d5fcfd816d6cde9576e9e481948b7d8c5bf3"
   },
   "outputs": [],
   "source": [
    "def make_input_fn(df, num_epochs):\n",
    "  return tf.estimator.inputs.pandas_input_fn(\n",
    "    x = df,\n",
    "    y = df['Survived'],\n",
    "    batch_size = 10,\n",
    "    num_epochs = num_epochs,\n",
    "    shuffle = True,\n",
    "    queue_capacity = 10,\n",
    "    num_threads = 1\n",
    "  )"
   ]
  },
  {
   "cell_type": "markdown",
   "metadata": {
    "_uuid": "12efa6e8d7a318fc899f5fc7fbad2fcb4b1e64a0"
   },
   "source": [
    "Below is the input function for predictions.<br>\n",
    "Here we do not provide labels<br>"
   ]
  },
  {
   "cell_type": "code",
   "execution_count": 31,
   "metadata": {
    "_uuid": "4898538fbb505a8049dddb264f5df028de2de52d"
   },
   "outputs": [],
   "source": [
    "def make_prediction_input_fn(df, num_epochs):\n",
    "  return tf.estimator.inputs.pandas_input_fn(\n",
    "    x = df,\n",
    "    y = None,\n",
    "    batch_size = 10,\n",
    "    num_epochs = num_epochs,\n",
    "    shuffle = True,\n",
    "    queue_capacity = 10,\n",
    "    num_threads = 1  \n",
    "  )"
   ]
  },
  {
   "cell_type": "code",
   "execution_count": 32,
   "metadata": {
    "_uuid": "c9c19864f0f654a8334e676f687f6817629c2748"
   },
   "outputs": [
    {
     "data": {
      "text/plain": [
       "array(['3', '1', '2'], dtype=object)"
      ]
     },
     "execution_count": 32,
     "metadata": {},
     "output_type": "execute_result"
    }
   ],
   "source": [
    "Pclass_list =  df_main.Pclass.unique()\n",
    "Pclass_list"
   ]
  },
  {
   "cell_type": "code",
   "execution_count": 33,
   "metadata": {
    "_uuid": "1e0dc05378c2d117238e626997cf7c7209586245"
   },
   "outputs": [
    {
     "data": {
      "text/plain": [
       "array(['male', 'female'], dtype=object)"
      ]
     },
     "execution_count": 33,
     "metadata": {},
     "output_type": "execute_result"
    }
   ],
   "source": [
    "gender_list =  df_main.Sex.unique()\n",
    "gender_list"
   ]
  },
  {
   "cell_type": "code",
   "execution_count": 34,
   "metadata": {
    "_uuid": "8cbd486b4f89fdb4a9fd10ae196688b046094e7a"
   },
   "outputs": [
    {
     "data": {
      "text/plain": [
       "array(['S', 'C', 'Q'], dtype=object)"
      ]
     },
     "execution_count": 34,
     "metadata": {},
     "output_type": "execute_result"
    }
   ],
   "source": [
    "embarked_list =  df_main.Embarked.unique()\n",
    "embarked_list "
   ]
  },
  {
   "cell_type": "markdown",
   "metadata": {
    "_uuid": "ff22905ba026f5691c9cc8edc3399c56ee0e0c41"
   },
   "source": [
    "Below is the function for feature columns"
   ]
  },
  {
   "cell_type": "code",
   "execution_count": 35,
   "metadata": {
    "_uuid": "d55e172fc1f25b7c01c310f60c1d654ea6e28cc6"
   },
   "outputs": [],
   "source": [
    "def make_feature_cols():\n",
    " Pclass_categorical_column = tf.feature_column.categorical_column_with_vocabulary_list(\n",
    "        key='Pclass',\n",
    "        vocabulary_list=Pclass_list)\n",
    "    \n",
    " Gender_categorical_column = tf.feature_column.categorical_column_with_vocabulary_list(\n",
    "        key='Sex',\n",
    "        vocabulary_list=gender_list)\n",
    " \n",
    " Embarked_categorical_column = tf.feature_column.categorical_column_with_vocabulary_list(\n",
    "        key='Embarked',\n",
    "        #vocabulary_list=embarked_list,\n",
    "        vocabulary_list=embarked_list,\n",
    "        default_value=0\n",
    "        )\n",
    "\n",
    "\n",
    "    \n",
    "    \n",
    " return [  \n",
    "    #Pclass_feature_column =\n",
    "    tf.feature_column.embedding_column(Pclass_categorical_column,dimension=3),\n",
    "    \n",
    "     \n",
    "    #gender_feature_column =\n",
    "    tf.feature_column.embedding_column(Gender_categorical_column,dimension=2), \n",
    "    \n",
    "    #age_feature_column =  \n",
    "    tf.feature_column.bucketized_column(\n",
    "        tf.feature_column.numeric_column('Age',dtype=tf.float32), boundaries = np.arange(0.0, 100 , 10).tolist()\n",
    "        ),\n",
    "\n",
    "    #SibSp_feature_column =  \n",
    "    tf.feature_column.numeric_column('SibSp',dtype=tf.float32),\n",
    "      \n",
    "    #Parch_feature_column =  \n",
    "    tf.feature_column.numeric_column('Parch',dtype=tf.float32), \n",
    "      \n",
    "    #Fare_feature_column =  \n",
    "    tf.feature_column.bucketized_column(\n",
    "        tf.feature_column.numeric_column('Fare',dtype=tf.float32), boundaries = np.arange(0.0, 700 , 100).tolist()\n",
    "    ),\n",
    "        \n",
    "    #embarked_feature_column =\n",
    "    tf.feature_column.embedding_column(Embarked_categorical_column,dimension=3),\n",
    "         \n",
    "  ]"
   ]
  },
  {
   "cell_type": "markdown",
   "metadata": {
    "_uuid": "38b6d96a44066f61f8127c8caa27ccd2d338ba46"
   },
   "source": [
    "We now split the data into Test and training"
   ]
  },
  {
   "cell_type": "code",
   "execution_count": 36,
   "metadata": {
    "_uuid": "9c4d6c7b7fa57fcf54784c2ae2b4c2356f3a06b0"
   },
   "outputs": [],
   "source": [
    "np.random.seed(seed=1) #makes result reproducible\n",
    "msk = np.random.rand(len(df_main)) < 0.8\n",
    "traindf = df_main[msk]\n",
    "evaldf = df_main[~msk]"
   ]
  },
  {
   "cell_type": "markdown",
   "metadata": {
    "_uuid": "fae6cd44d422f0359cbe35d1139b14d774e8c667"
   },
   "source": [
    "Next we build eval specs"
   ]
  },
  {
   "cell_type": "code",
   "execution_count": 63,
   "metadata": {},
   "outputs": [],
   "source": [
    "# Create estimator train and evaluate function# Creat \n",
    "def train_and_evaluate(output_dir, num_train_steps):\n",
    "    \n",
    "    estimator = tf.estimator.DNNClassifier(\n",
    "    model_dir = output_dir,\n",
    "    feature_columns=make_feature_cols(),\n",
    "    hidden_units=[32,16,4],\n",
    "    n_classes=2,    \n",
    "    optimizer=tf.train.AdamOptimizer(\n",
    "      learning_rate=0.01\n",
    "    ))\n",
    "    \n",
    "    train_spec = tf.estimator.TrainSpec(input_fn = make_input_fn(traindf, 1000), \n",
    "                                      max_steps = num_train_steps )\n",
    "    \n",
    "    eval_spec = tf.estimator.EvalSpec(input_fn = make_input_fn(evaldf, 1), \n",
    "                                    steps = 1, \n",
    "                                    start_delay_secs = 60, # start evaluating after N seconds, \n",
    "                                    throttle_secs = 60 )  # evaluate every N seconds\n",
    "    \n",
    "    tf.estimator.train_and_evaluate(estimator, train_spec, eval_spec)\n",
    "   \n",
    "    return estimator"
   ]
  },
  {
   "cell_type": "code",
   "execution_count": 64,
   "metadata": {
    "scrolled": false
   },
   "outputs": [
    {
     "name": "stdout",
     "output_type": "stream",
     "text": [
      "INFO:tensorflow:Using default config.\n",
      "INFO:tensorflow:Using config: {'_model_dir': '../Titanic Prediction/Model_Details', '_tf_random_seed': None, '_save_summary_steps': 100, '_save_checkpoints_steps': None, '_save_checkpoints_secs': 600, '_session_config': None, '_keep_checkpoint_max': 5, '_keep_checkpoint_every_n_hours': 10000, '_log_step_count_steps': 100, '_service': None, '_cluster_spec': <tensorflow.python.training.server_lib.ClusterSpec object at 0x000002E5B8903B70>, '_task_type': 'worker', '_task_id': 0, '_master': '', '_is_chief': True, '_num_ps_replicas': 0, '_num_worker_replicas': 1}\n",
      "INFO:tensorflow:Running training and evaluation locally (non-distributed).\n",
      "INFO:tensorflow:Start train and evaluate loop. The evaluate will happen after 60 secs (eval_spec.throttle_secs) or training is finished.\n",
      "INFO:tensorflow:Create CheckpointSaverHook.\n",
      "INFO:tensorflow:Saving checkpoints for 1 into ../Titanic Prediction/Model_Details\\model.ckpt.\n",
      "INFO:tensorflow:loss = 6.8798904, step = 1\n",
      "INFO:tensorflow:Saving checkpoints for 100 into ../Titanic Prediction/Model_Details\\model.ckpt.\n",
      "INFO:tensorflow:Loss for final step: 4.7629232.\n",
      "INFO:tensorflow:Starting evaluation at 2018-08-31-08:18:30\n",
      "INFO:tensorflow:Restoring parameters from ../Titanic Prediction/Model_Details\\model.ckpt-100\n",
      "INFO:tensorflow:Evaluation [1/1]\n",
      "INFO:tensorflow:Finished evaluation at 2018-08-31-08:18:32\n",
      "INFO:tensorflow:Saving dict for global step 100: accuracy = 0.8, accuracy_baseline = 0.5, auc = 0.79999983, auc_precision_recall = 0.8944442, average_loss = 0.49418885, global_step = 100, label/mean = 0.5, loss = 4.9418883, prediction/mean = 0.31609726\n"
     ]
    }
   ],
   "source": [
    "OUTDIR = '../Titanic Prediction/Model_Details'\n",
    "tf.logging.set_verbosity(tf.logging.INFO)\n",
    "shutil.rmtree(OUTDIR, ignore_errors = True)\n",
    "estimator = train_and_evaluate(OUTDIR, 100)"
   ]
  },
  {
   "cell_type": "code",
   "execution_count": 65,
   "metadata": {},
   "outputs": [],
   "source": [
    "a = estimator.predict(make_prediction_input_fn(evaldf,1))"
   ]
  },
  {
   "cell_type": "code",
   "execution_count": 66,
   "metadata": {},
   "outputs": [
    {
     "data": {
      "text/html": [
       "<div>\n",
       "<style>\n",
       "    .dataframe thead tr:only-child th {\n",
       "        text-align: right;\n",
       "    }\n",
       "\n",
       "    .dataframe thead th {\n",
       "        text-align: left;\n",
       "    }\n",
       "\n",
       "    .dataframe tbody tr th {\n",
       "        vertical-align: top;\n",
       "    }\n",
       "</style>\n",
       "<table border=\"1\" class=\"dataframe\">\n",
       "  <thead>\n",
       "    <tr style=\"text-align: right;\">\n",
       "      <th></th>\n",
       "      <th>Survived</th>\n",
       "      <th>Pclass</th>\n",
       "      <th>Sex</th>\n",
       "      <th>Age</th>\n",
       "      <th>SibSp</th>\n",
       "      <th>Parch</th>\n",
       "      <th>Fare</th>\n",
       "      <th>Embarked</th>\n",
       "    </tr>\n",
       "  </thead>\n",
       "  <tbody>\n",
       "    <tr>\n",
       "      <th>0</th>\n",
       "      <td>NaN</td>\n",
       "      <td>3</td>\n",
       "      <td>male</td>\n",
       "      <td>34.5</td>\n",
       "      <td>0</td>\n",
       "      <td>0</td>\n",
       "      <td>7.8292</td>\n",
       "      <td>Q</td>\n",
       "    </tr>\n",
       "    <tr>\n",
       "      <th>1</th>\n",
       "      <td>NaN</td>\n",
       "      <td>3</td>\n",
       "      <td>female</td>\n",
       "      <td>47.0</td>\n",
       "      <td>1</td>\n",
       "      <td>0</td>\n",
       "      <td>7.0000</td>\n",
       "      <td>S</td>\n",
       "    </tr>\n",
       "    <tr>\n",
       "      <th>2</th>\n",
       "      <td>NaN</td>\n",
       "      <td>2</td>\n",
       "      <td>male</td>\n",
       "      <td>62.0</td>\n",
       "      <td>0</td>\n",
       "      <td>0</td>\n",
       "      <td>9.6875</td>\n",
       "      <td>Q</td>\n",
       "    </tr>\n",
       "    <tr>\n",
       "      <th>3</th>\n",
       "      <td>NaN</td>\n",
       "      <td>3</td>\n",
       "      <td>male</td>\n",
       "      <td>27.0</td>\n",
       "      <td>0</td>\n",
       "      <td>0</td>\n",
       "      <td>8.6625</td>\n",
       "      <td>S</td>\n",
       "    </tr>\n",
       "    <tr>\n",
       "      <th>4</th>\n",
       "      <td>NaN</td>\n",
       "      <td>3</td>\n",
       "      <td>female</td>\n",
       "      <td>22.0</td>\n",
       "      <td>1</td>\n",
       "      <td>1</td>\n",
       "      <td>12.2875</td>\n",
       "      <td>S</td>\n",
       "    </tr>\n",
       "  </tbody>\n",
       "</table>\n",
       "</div>"
      ],
      "text/plain": [
       "   Survived Pclass     Sex   Age  SibSp  Parch     Fare Embarked\n",
       "0       NaN      3    male  34.5      0      0   7.8292        Q\n",
       "1       NaN      3  female  47.0      1      0   7.0000        S\n",
       "2       NaN      2    male  62.0      0      0   9.6875        Q\n",
       "3       NaN      3    male  27.0      0      0   8.6625        S\n",
       "4       NaN      3  female  22.0      1      1  12.2875        S"
      ]
     },
     "execution_count": 66,
     "metadata": {},
     "output_type": "execute_result"
    }
   ],
   "source": [
    "df_test = pd.read_csv(\"../Titanic Prediction/test.csv\")\n",
    "df_test['Embarked'].fillna('S', inplace=True)\n",
    "df_test['Pclass'] = df_test['Pclass'].astype(str)\n",
    "df_test = df_test.loc[:,['Survived','Pclass','Sex','Age','SibSp','Parch','Fare','Embarked']]\n",
    "#df_main = df_main.dropna(how=\"any\", axis=0)\n",
    "df_test.head()"
   ]
  },
  {
   "cell_type": "code",
   "execution_count": 67,
   "metadata": {},
   "outputs": [],
   "source": [
    "test = estimator.predict(make_prediction_input_fn(df_test,1))"
   ]
  },
  {
   "cell_type": "code",
   "execution_count": 68,
   "metadata": {},
   "outputs": [
    {
     "name": "stdout",
     "output_type": "stream",
     "text": [
      "INFO:tensorflow:Restoring parameters from ../Titanic Prediction/Model_Details\\model.ckpt-100\n"
     ]
    }
   ],
   "source": [
    "pred_list = []\n",
    "\n",
    "for i in test:\n",
    "    for a in i['classes']:\n",
    "        pred_list.append(str(a)[1:][1:2])   "
   ]
  },
  {
   "cell_type": "code",
   "execution_count": 69,
   "metadata": {},
   "outputs": [],
   "source": [
    "df_submit = pd.read_csv(\"../Titanic Prediction/test.csv\")\n",
    "df_submit = pd.DataFrame(df_submit['PassengerId'])\n",
    "df_pred = pd.DataFrame({'Survived':pred_list})\n",
    "df_submit['Survived'] = df_pred\n",
    "df_submit.to_csv('hravat_titanic_pred_titl.csv',sep=',',index = False)"
   ]
  }
 ],
 "metadata": {
  "kernelspec": {
   "display_name": "Python 3",
   "language": "python",
   "name": "python3"
  },
  "language_info": {
   "codemirror_mode": {
    "name": "ipython",
    "version": 3
   },
   "file_extension": ".py",
   "mimetype": "text/x-python",
   "name": "python",
   "nbconvert_exporter": "python",
   "pygments_lexer": "ipython3",
   "version": "3.6.1"
  }
 },
 "nbformat": 4,
 "nbformat_minor": 1
}
